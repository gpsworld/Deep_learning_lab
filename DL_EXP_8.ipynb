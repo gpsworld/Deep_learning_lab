{
  "nbformat": 4,
  "nbformat_minor": 0,
  "metadata": {
    "colab": {
      "provenance": [],
      "gpuType": "T4"
    },
    "kernelspec": {
      "name": "python3",
      "display_name": "Python 3"
    },
    "language_info": {
      "name": "python"
    },
    "accelerator": "GPU"
  },
  "cells": [
    {
      "cell_type": "code",
      "execution_count": null,
      "metadata": {
        "id": "osLWpBqk1VfP"
      },
      "outputs": [],
      "source": [
        "import tensorflow as tf\n",
        "from tensorflow.keras.datasets import imdb\n",
        "from tensorflow.keras.preprocessing import sequence\n",
        "from tensorflow.keras.models import Sequential\n",
        "from tensorflow.keras.layers import Embedding, LSTM, Dense\n",
        "import matplotlib.pyplot as plt"
      ]
    },
    {
      "cell_type": "code",
      "source": [
        "# Set parameters\n",
        "max_features = 20000  # Top 20,000 most frequent words\n",
        "maxlen = 80  # Cuts off reviews after 80 words\n",
        "batch_size = 32"
      ],
      "metadata": {
        "id": "sv5DyUyr1iFy"
      },
      "execution_count": null,
      "outputs": []
    },
    {
      "cell_type": "code",
      "source": [
        "# Load and preprocess the IMDB dataset\n",
        "print(\"Loading data...\")\n",
        "(x_train, y_train), (x_test, y_test) = imdb.load_data(num_words=max_features)"
      ],
      "metadata": {
        "colab": {
          "base_uri": "https://localhost:8080/"
        },
        "id": "NKwEHLrb137a",
        "outputId": "755e0b7d-ecc7-4d0e-d553-fca5ffa300d5"
      },
      "execution_count": null,
      "outputs": [
        {
          "output_type": "stream",
          "name": "stdout",
          "text": [
            "Loading data...\n",
            "Downloading data from https://storage.googleapis.com/tensorflow/tf-keras-datasets/imdb.npz\n",
            "17464789/17464789 [==============================] - 1s 0us/step\n"
          ]
        }
      ]
    },
    {
      "cell_type": "code",
      "source": [
        "print(f\"Loaded {len(x_train)} training sequences and {len(x_test)} test sequences\")"
      ],
      "metadata": {
        "colab": {
          "base_uri": "https://localhost:8080/"
        },
        "id": "KR8tP3Wv16oB",
        "outputId": "16a07219-09af-4ed5-890c-32c569db4452"
      },
      "execution_count": null,
      "outputs": [
        {
          "output_type": "stream",
          "name": "stdout",
          "text": [
            "Loaded 25000 training sequences and 25000 test sequences\n"
          ]
        }
      ]
    },
    {
      "cell_type": "code",
      "source": [
        "# Pad sequences to ensure uniform input shape\n",
        "x_train = sequence.pad_sequences(x_train, maxlen=maxlen)\n",
        "x_test = sequence.pad_sequences(x_test, maxlen=maxlen)"
      ],
      "metadata": {
        "id": "l6x6doqx19-h"
      },
      "execution_count": null,
      "outputs": []
    },
    {
      "cell_type": "code",
      "source": [
        "print(\"x_train shape:\", x_train.shape)\n",
        "print(\"x_test shape:\", x_test.shape)"
      ],
      "metadata": {
        "colab": {
          "base_uri": "https://localhost:8080/"
        },
        "id": "xOJ89Ccr2Co6",
        "outputId": "ee9d26c8-ab13-44b0-ad96-68c1309e30d6"
      },
      "execution_count": null,
      "outputs": [
        {
          "output_type": "stream",
          "name": "stdout",
          "text": [
            "x_train shape: (25000, 80)\n",
            "x_test shape: (25000, 80)\n"
          ]
        }
      ]
    },
    {
      "cell_type": "code",
      "source": [
        "# Define the LSTM model\n",
        "model = Sequential([\n",
        "    Embedding(max_features, 128),\n",
        "    LSTM(64, dropout=0.2, recurrent_dropout=0.2),\n",
        "    Dense(1, activation='sigmoid')\n",
        "])"
      ],
      "metadata": {
        "colab": {
          "base_uri": "https://localhost:8080/"
        },
        "id": "MQ2F5Pqm2F_6",
        "outputId": "27e49d5f-0e56-4db1-f85e-905b8aca0d7e"
      },
      "execution_count": null,
      "outputs": [
        {
          "output_type": "stream",
          "name": "stderr",
          "text": [
            "WARNING:tensorflow:Layer lstm will not use cuDNN kernels since it doesn't meet the criteria. It will use a generic GPU kernel as fallback when running on GPU.\n"
          ]
        }
      ]
    },
    {
      "cell_type": "code",
      "source": [
        "#  Compile the model\n",
        "model.compile(optimizer='adam',\n",
        "              loss='binary_crossentropy',\n",
        "              metrics=['accuracy'])"
      ],
      "metadata": {
        "id": "MCUneDlZ2Ici"
      },
      "execution_count": null,
      "outputs": []
    },
    {
      "cell_type": "code",
      "source": [
        "# Train the model\n",
        "print(\"Training model...\")\n",
        "history = model.fit(x_train, y_train,\n",
        "                    batch_size=batch_size,\n",
        "                    epochs=5,\n",
        "                    validation_split=0.2)"
      ],
      "metadata": {
        "colab": {
          "base_uri": "https://localhost:8080/"
        },
        "id": "4EIEQTm92Un6",
        "outputId": "9266159c-7403-45c3-d02e-09f55061077d"
      },
      "execution_count": null,
      "outputs": [
        {
          "output_type": "stream",
          "name": "stdout",
          "text": [
            "Training model...\n",
            "Epoch 1/5\n",
            "625/625 [==============================] - 135s 209ms/step - loss: 0.4393 - accuracy: 0.7896 - val_loss: 0.3613 - val_accuracy: 0.8418\n",
            "Epoch 2/5\n",
            "625/625 [==============================] - 98s 156ms/step - loss: 0.2468 - accuracy: 0.9028 - val_loss: 0.3838 - val_accuracy: 0.8398\n",
            "Epoch 3/5\n",
            "625/625 [==============================] - 97s 155ms/step - loss: 0.1502 - accuracy: 0.9432 - val_loss: 0.5038 - val_accuracy: 0.8306\n",
            "Epoch 4/5\n",
            "625/625 [==============================] - 95s 153ms/step - loss: 0.0981 - accuracy: 0.9656 - val_loss: 0.5379 - val_accuracy: 0.8194\n",
            "Epoch 5/5\n",
            "625/625 [==============================] - 97s 156ms/step - loss: 0.0644 - accuracy: 0.9780 - val_loss: 0.6830 - val_accuracy: 0.8236\n"
          ]
        }
      ]
    },
    {
      "cell_type": "code",
      "source": [
        "# Evaluate the model\n",
        "score, acc = model.evaluate(x_test, y_test, batch_size=batch_size, verbose=1)\n",
        "print(f\"Test score: {score:.3f}\")\n",
        "print(f\"Test accuracy: {acc:.3f}\")"
      ],
      "metadata": {
        "colab": {
          "base_uri": "https://localhost:8080/"
        },
        "id": "yNSmPuBz2Y7q",
        "outputId": "2ceee3db-5d00-4e6c-edaf-538b84d24b9a"
      },
      "execution_count": null,
      "outputs": [
        {
          "output_type": "stream",
          "name": "stdout",
          "text": [
            "782/782 [==============================] - 19s 25ms/step - loss: 0.7149 - accuracy: 0.8118\n",
            "Test score: 0.715\n",
            "Test accuracy: 0.812\n"
          ]
        }
      ]
    },
    {
      "cell_type": "code",
      "source": [
        "# Plot training history\n",
        "plt.figure(figsize=(12,4))"
      ],
      "metadata": {
        "colab": {
          "base_uri": "https://localhost:8080/",
          "height": 52
        },
        "id": "BKTdLy_s2ilp",
        "outputId": "bc8d0be9-57db-43fa-d4fe-2daee36c06f7"
      },
      "execution_count": null,
      "outputs": [
        {
          "output_type": "execute_result",
          "data": {
            "text/plain": [
              "<Figure size 1200x400 with 0 Axes>"
            ]
          },
          "metadata": {},
          "execution_count": 11
        },
        {
          "output_type": "display_data",
          "data": {
            "text/plain": [
              "<Figure size 1200x400 with 0 Axes>"
            ]
          },
          "metadata": {}
        }
      ]
    },
    {
      "cell_type": "code",
      "source": [
        "# Plot 1\n",
        "plt.subplot(1,2,1)\n",
        "plt.plot(history.history['accuracy'], label='Training Accuracy')\n",
        "plt.plot(history.history['val_accuracy'], label='Validation Accuracy')\n",
        "plt.title('Model Accuracy')\n",
        "plt.xlabel('Epoch')\n",
        "plt.ylabel('Accuracy')\n",
        "plt.legend()"
      ],
      "metadata": {
        "colab": {
          "base_uri": "https://localhost:8080/",
          "height": 489
        },
        "id": "BkeKm8-U2n3M",
        "outputId": "1afc4f10-4861-4a78-c82b-dce92a231c91"
      },
      "execution_count": null,
      "outputs": [
        {
          "output_type": "execute_result",
          "data": {
            "text/plain": [
              "<matplotlib.legend.Legend at 0x7b6e92f23fa0>"
            ]
          },
          "metadata": {},
          "execution_count": 12
        },
        {
          "output_type": "display_data",
          "data": {
            "text/plain": [
              "<Figure size 640x480 with 1 Axes>"
            ],
            "image/png": "[encoded data removed]"
          },
          "metadata": {}
        }
      ]
    },
    {
      "cell_type": "code",
      "source": [
        "# Plot 2\n",
        "plt.subplot(1,2,2)\n",
        "plt.plot(history.history['loss'], label='Training Loss')\n",
        "plt.plot(history.history['val_loss'], label='Validation Loss')\n",
        "plt.title('Model Loss')\n",
        "plt.xlabel('Epoch')\n",
        "plt.ylabel('Loss')\n",
        "plt.legend()\n",
        "plt.tight_layout()\n",
        "plt.show()"
      ],
      "metadata": {
        "colab": {
          "base_uri": "https://localhost:8080/",
          "height": 487
        },
        "id": "Ydp-wdTP2prE",
        "outputId": "a266ade9-fd83-42ff-b884-b6c4dc13623e"
      },
      "execution_count": null,
      "outputs": [
        {
          "output_type": "display_data",
          "data": {
            "text/plain": [
              "<Figure size 640x480 with 1 Axes>"
            ],
            "image/png": "[encoded data removed]"
          },
          "metadata": {}
        }
      ]
    },
    {
      "cell_type": "code",
      "source": [
        "# Function to predict sentiment\n",
        "def predict_sentiment(text):\n",
        "    # Convert text to sequence of word indices\n",
        "    word_index = imdb.get_word_index()\n",
        "    sequence = [word_index.get(word, 0) for word in text.lower().split()]\n",
        "    sequence = sequence[:maxlen]  # Truncate to maxlen\n",
        "    sequence = tf.keras.preprocessing.sequence.pad_sequences([sequence], maxlen=maxlen)\n",
        "\n",
        "    # Predict sentiment\n",
        "    prediction = model.predict(sequence)[0][0]\n",
        "    return \"Positive\" if prediction > 0.5 else \"Negative\", prediction"
      ],
      "metadata": {
        "id": "m07Aw0rS20Ey"
      },
      "execution_count": null,
      "outputs": []
    },
    {
      "cell_type": "code",
      "source": [
        "# Example predictions\n",
        "examples = [\n",
        "    \"This movie was excellent! The acting was great and the plot was engaging.\",\n",
        "    \"I didn't enjoy this film at all. The story was boring and predictable.\",\n",
        "    \"An average movie. It had some good moments but overall was forgettable.\"\n",
        "]"
      ],
      "metadata": {
        "id": "olMd3TmY21A8"
      },
      "execution_count": null,
      "outputs": []
    },
    {
      "cell_type": "code",
      "source": [
        "for example in examples:\n",
        "    sentiment, score = predict_sentiment(example)\n",
        "    print(f\"Text: {example}\")\n",
        "    print(f\"Predicted sentiment: {sentiment}\")\n",
        "    print(f\"Confidence score: {score:.2f}\\n\")"
      ],
      "metadata": {
        "colab": {
          "base_uri": "https://localhost:8080/"
        },
        "id": "8lSQrP8529LQ",
        "outputId": "5587c506-4d1e-40f8-f459-a9aecd3bda44"
      },
      "execution_count": null,
      "outputs": [
        {
          "output_type": "stream",
          "name": "stdout",
          "text": [
            "Downloading data from https://storage.googleapis.com/tensorflow/tf-keras-datasets/imdb_word_index.json\n",
            "1641221/1641221 [==============================] - 1s 1us/step\n",
            "1/1 [==============================] - 0s 417ms/step\n",
            "Text: This movie was excellent! The acting was great and the plot was engaging.\n",
            "Predicted sentiment: Positive\n",
            "Confidence score: 0.77\n",
            "\n",
            "1/1 [==============================] - 0s 65ms/step\n",
            "Text: I didn't enjoy this film at all. The story was boring and predictable.\n",
            "Predicted sentiment: Negative\n",
            "Confidence score: 0.48\n",
            "\n",
            "1/1 [==============================] - 0s 39ms/step\n",
            "Text: An average movie. It had some good moments but overall was forgettable.\n",
            "Predicted sentiment: Negative\n",
            "Confidence score: 0.22\n",
            "\n"
          ]
        }
      ]
    },
    {
      "cell_type": "code",
      "source": [],
      "metadata": {
        "id": "w0ZsuqR55y33"
      },
      "execution_count": null,
      "outputs": []
    }
  ]
}