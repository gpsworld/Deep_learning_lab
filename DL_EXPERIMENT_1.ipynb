{
  "nbformat": 4,
  "nbformat_minor": 0,
  "metadata": {
    "colab": {
      "provenance": [],
      "authorship_tag": "ABX9TyMTj4OOJjRGeaL+fFrcYgCB",
      "include_colab_link": true
    },
    "kernelspec": {
      "name": "python3",
      "display_name": "Python 3"
    },
    "language_info": {
      "name": "python"
    }
  },
  "cells": [
    {
      "cell_type": "markdown",
      "metadata": {
        "id": "view-in-github",
        "colab_type": "text"
      },
      "source": [
        "<a href=\"https://colab.research.google.com/github/gpsworld/Deep_learning_lab/blob/main/DL_EXPERIMENT_1.ipynb\" target=\"_parent\"><img src=\"https://colab.research.google.com/assets/colab-badge.svg\" alt=\"Open In Colab\"/></a>"
      ]
    },
    {
      "cell_type": "code",
      "execution_count": null,
      "metadata": {
        "id": "XLv-HZ9t2MF7",
        "outputId": "ce4bc522-45e7-4f47-ca7f-6f9cba16ff1e",
        "colab": {
          "base_uri": "https://localhost:8080/"
        }
      },
      "outputs": [
        {
          "output_type": "stream",
          "name": "stdout",
          "text": [
            "Neuron stays deactivated\n",
            "Neuron stays deactivated\n",
            "Neuron stays deactivated\n",
            "Neuron Fires!\n",
            "X1 X2 Output\n",
            "[[0 0 0]\n",
            " [0 1 0]\n",
            " [1 0 0]\n",
            " [1 1 1]]\n"
          ]
        }
      ],
      "source": [
        "import numpy as np\n",
        "\n",
        "def mcp_neuron(X1, X2, W1, W2, threshold):\n",
        "    weighted_sum = X1 * W1 + X2 * W2\n",
        "    return 1 if weighted_sum >= threshold else 0\n",
        "\n",
        "input_combinations = np.array([[0, 0], [0, 1], [1, 0], [1, 1]])\n",
        "\n",
        "W1, W2 = 1, 1\n",
        "threshold = 2\n",
        "table = []\n",
        "\n",
        "for inputs in input_combinations:\n",
        "    X1, X2 = inputs\n",
        "    output = mcp_neuron(X1, X2, W1, W2, threshold)\n",
        "    print(\"Neuron Fires!\" if output == 1 else \"Neuron stays deactivated\")\n",
        "    table.append([X1, X2, output])\n",
        "\n",
        "table = np.array(table)\n",
        "\n",
        "print(\"X1 X2 Output\")\n",
        "print(table)\n"
      ]
    }
  ]
}