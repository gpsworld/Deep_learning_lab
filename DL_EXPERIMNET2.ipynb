{
  "nbformat": 4,
  "nbformat_minor": 0,
  "metadata": {
    "colab": {
      "provenance": []
    },
    "kernelspec": {
      "name": "python3",
      "display_name": "Python 3"
    },
    "language_info": {
      "name": "python"
    }
  },
  "cells": [
    {
      "cell_type": "code",
      "execution_count": null,
      "metadata": {
        "colab": {
          "base_uri": "https://localhost:8080/"
        },
        "id": "nEuTXy1B2rqG",
        "outputId": "07ddb754-1792-4355-e883-df7c2cc7a6e5"
      },
      "outputs": [
        {
          "output_type": "stream",
          "name": "stdout",
          "text": [
            "Epoch 0, Loss: 0.7147223541375307\n",
            "Epoch 100, Loss: 0.6958311548845123\n",
            "Epoch 200, Loss: 0.6925581067023269\n",
            "Epoch 300, Loss: 0.6918922510910942\n",
            "Epoch 400, Loss: 0.6916631988732198\n",
            "Epoch 500, Loss: 0.6915115504917674\n",
            "Epoch 600, Loss: 0.6913769005979149\n",
            "Epoch 700, Loss: 0.6912487413396181\n",
            "Epoch 800, Loss: 0.6911250240217923\n",
            "Epoch 900, Loss: 0.6910051680284209\n"
          ]
        }
      ],
      "source": [
        "import numpy as np\n",
        "\n",
        "def sigmoid(z):\n",
        "    return 1 / (1 + np.exp(-z))\n",
        "\n",
        "def sigmoid_derivative(z):\n",
        "    return sigmoid(z) * (1 - sigmoid(z))\n",
        "\n",
        "input_size = 3\n",
        "hidden_size1 = 5\n",
        "hidden_size2 = 4\n",
        "output_size = 2\n",
        "\n",
        "W1 = np.random.randn(input_size, hidden_size1)\n",
        "b1 = np.zeros((1, hidden_size1))\n",
        "W2 = np.random.randn(hidden_size1, hidden_size2)\n",
        "b2 = np.zeros((1, hidden_size2))\n",
        "W3 = np.random.randn(hidden_size2, output_size)\n",
        "b3 = np.zeros((1, output_size))\n",
        "\n",
        "learning_rate = 0.01\n",
        "epochs = 1000\n",
        "\n",
        "X = np.random.randn(100, input_size)\n",
        "y = np.random.randint(0, 2, size=(100, output_size))\n",
        "\n",
        "for epoch in range(epochs):\n",
        "    Z1 = np.dot(X, W1) + b1\n",
        "    A1 = sigmoid(Z1)\n",
        "    Z2 = np.dot(A1, W2) + b2\n",
        "    A2 = sigmoid(Z2)\n",
        "    Z3 = np.dot(A2, W3) + b3\n",
        "    y_pred = sigmoid(Z3)\n",
        "\n",
        "    loss = -np.mean(y * np.log(y_pred) + (1 - y) * np.log(1 - y_pred))\n",
        "\n",
        "    dZ3 = y_pred - y\n",
        "    dW3 = np.dot(A2.T, dZ3) / len(X)\n",
        "    db3 = np.mean(dZ3, axis=0, keepdims=True)\n",
        "\n",
        "    dA2 = np.dot(dZ3, W3.T)\n",
        "    dZ2 = dA2 * sigmoid_derivative(Z2)\n",
        "    dW2 = np.dot(A1.T, dZ2) / len(X)\n",
        "    db2 = np.mean(dZ2, axis=0, keepdims=True)\n",
        "\n",
        "    dA1 = np.dot(dZ2, W2.T)\n",
        "    dZ1 = dA1 * sigmoid_derivative(Z1)\n",
        "    dW1 = np.dot(X.T, dZ1) / len(X)\n",
        "    db1 = np.mean(dZ1, axis=0, keepdims=True)\n",
        "\n",
        "    W1 -= learning_rate * dW1\n",
        "    b1 -= learning_rate * db1\n",
        "    W2 -= learning_rate * dW2\n",
        "    b2 -= learning_rate * db2\n",
        "    W3 -= learning_rate * dW3\n",
        "    b3 -= learning_rate * db3\n",
        "\n",
        "    if epoch % 100 == 0:\n",
        "        print(f'Epoch {epoch}, Loss: {loss}')\n"
      ]
    }
  ]
}